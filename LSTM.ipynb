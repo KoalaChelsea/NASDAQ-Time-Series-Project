{
 "cells": [
  {
   "cell_type": "code",
   "execution_count": 1,
   "metadata": {},
   "outputs": [
    {
     "name": "stderr",
     "output_type": "stream",
     "text": [
      "Using TensorFlow backend.\n"
     ]
    }
   ],
   "source": [
    "import numpy as np\n",
    "import pandas as pd\n",
    "from math import sqrt\n",
    "import matplotlib.pyplot as plt\n",
    "from sklearn.preprocessing import MinMaxScaler\n",
    "from sklearn.metrics import mean_squared_error\n",
    "from keras.models import Sequential\n",
    "from keras.layers import Dense\n",
    "from keras.layers import LSTM\n",
    "from tqdm import tqdm"
   ]
  },
  {
   "cell_type": "code",
   "execution_count": 2,
   "metadata": {},
   "outputs": [
    {
     "data": {
      "text/html": [
       "<div>\n",
       "<style scoped>\n",
       "    .dataframe tbody tr th:only-of-type {\n",
       "        vertical-align: middle;\n",
       "    }\n",
       "\n",
       "    .dataframe tbody tr th {\n",
       "        vertical-align: top;\n",
       "    }\n",
       "\n",
       "    .dataframe thead th {\n",
       "        text-align: right;\n",
       "    }\n",
       "</style>\n",
       "<table border=\"1\" class=\"dataframe\">\n",
       "  <thead>\n",
       "    <tr style=\"text-align: right;\">\n",
       "      <th></th>\n",
       "      <th>IXIC.Open</th>\n",
       "      <th>IXIC.High</th>\n",
       "      <th>IXIC.Low</th>\n",
       "      <th>IXIC.Close</th>\n",
       "      <th>IXIC.Volume</th>\n",
       "      <th>IXIC.Adjusted</th>\n",
       "    </tr>\n",
       "    <tr>\n",
       "      <th>TIMESTAMP</th>\n",
       "      <th></th>\n",
       "      <th></th>\n",
       "      <th></th>\n",
       "      <th></th>\n",
       "      <th></th>\n",
       "      <th></th>\n",
       "    </tr>\n",
       "  </thead>\n",
       "  <tbody>\n",
       "    <tr>\n",
       "      <td>2010-01-04</td>\n",
       "      <td>2294.409912</td>\n",
       "      <td>2311.149902</td>\n",
       "      <td>2294.409912</td>\n",
       "      <td>2308.419922</td>\n",
       "      <td>1.931380e+09</td>\n",
       "      <td>2308.419922</td>\n",
       "    </tr>\n",
       "    <tr>\n",
       "      <td>2010-01-05</td>\n",
       "      <td>2307.270020</td>\n",
       "      <td>2313.729980</td>\n",
       "      <td>2295.620117</td>\n",
       "      <td>2308.709961</td>\n",
       "      <td>2.367860e+09</td>\n",
       "      <td>2308.709961</td>\n",
       "    </tr>\n",
       "    <tr>\n",
       "      <td>2010-01-06</td>\n",
       "      <td>2307.709961</td>\n",
       "      <td>2314.070068</td>\n",
       "      <td>2295.679932</td>\n",
       "      <td>2301.090088</td>\n",
       "      <td>2.253340e+09</td>\n",
       "      <td>2301.090088</td>\n",
       "    </tr>\n",
       "    <tr>\n",
       "      <td>2010-01-07</td>\n",
       "      <td>2298.090088</td>\n",
       "      <td>2301.300049</td>\n",
       "      <td>2285.219971</td>\n",
       "      <td>2300.050049</td>\n",
       "      <td>2.270050e+09</td>\n",
       "      <td>2300.050049</td>\n",
       "    </tr>\n",
       "    <tr>\n",
       "      <td>2010-01-08</td>\n",
       "      <td>2292.239990</td>\n",
       "      <td>2317.600098</td>\n",
       "      <td>2290.610107</td>\n",
       "      <td>2317.169922</td>\n",
       "      <td>2.145390e+09</td>\n",
       "      <td>2317.169922</td>\n",
       "    </tr>\n",
       "  </tbody>\n",
       "</table>\n",
       "</div>"
      ],
      "text/plain": [
       "              IXIC.Open    IXIC.High     IXIC.Low   IXIC.Close   IXIC.Volume  \\\n",
       "TIMESTAMP                                                                      \n",
       "2010-01-04  2294.409912  2311.149902  2294.409912  2308.419922  1.931380e+09   \n",
       "2010-01-05  2307.270020  2313.729980  2295.620117  2308.709961  2.367860e+09   \n",
       "2010-01-06  2307.709961  2314.070068  2295.679932  2301.090088  2.253340e+09   \n",
       "2010-01-07  2298.090088  2301.300049  2285.219971  2300.050049  2.270050e+09   \n",
       "2010-01-08  2292.239990  2317.600098  2290.610107  2317.169922  2.145390e+09   \n",
       "\n",
       "            IXIC.Adjusted  \n",
       "TIMESTAMP                  \n",
       "2010-01-04    2308.419922  \n",
       "2010-01-05    2308.709961  \n",
       "2010-01-06    2301.090088  \n",
       "2010-01-07    2300.050049  \n",
       "2010-01-08    2317.169922  "
      ]
     },
     "execution_count": 2,
     "metadata": {},
     "output_type": "execute_result"
    }
   ],
   "source": [
    "# import all stock prices\n",
    "df_stock = pd.read_csv(\"NASDAQ_Composite.csv\", index_col = 0)\n",
    "df_stock.head()"
   ]
  },
  {
   "cell_type": "code",
   "execution_count": 3,
   "metadata": {},
   "outputs": [
    {
     "data": {
      "text/html": [
       "<div>\n",
       "<style scoped>\n",
       "    .dataframe tbody tr th:only-of-type {\n",
       "        vertical-align: middle;\n",
       "    }\n",
       "\n",
       "    .dataframe tbody tr th {\n",
       "        vertical-align: top;\n",
       "    }\n",
       "\n",
       "    .dataframe thead th {\n",
       "        text-align: right;\n",
       "    }\n",
       "</style>\n",
       "<table border=\"1\" class=\"dataframe\">\n",
       "  <thead>\n",
       "    <tr style=\"text-align: right;\">\n",
       "      <th></th>\n",
       "      <th>BAMLH0A0HYM2</th>\n",
       "    </tr>\n",
       "    <tr>\n",
       "      <th>DATE</th>\n",
       "      <th></th>\n",
       "    </tr>\n",
       "  </thead>\n",
       "  <tbody>\n",
       "    <tr>\n",
       "      <td>2010-01-04</td>\n",
       "      <td>6.34</td>\n",
       "    </tr>\n",
       "    <tr>\n",
       "      <td>2010-01-05</td>\n",
       "      <td>6.30</td>\n",
       "    </tr>\n",
       "    <tr>\n",
       "      <td>2010-01-06</td>\n",
       "      <td>6.17</td>\n",
       "    </tr>\n",
       "    <tr>\n",
       "      <td>2010-01-07</td>\n",
       "      <td>6.03</td>\n",
       "    </tr>\n",
       "    <tr>\n",
       "      <td>2010-01-08</td>\n",
       "      <td>6.02</td>\n",
       "    </tr>\n",
       "  </tbody>\n",
       "</table>\n",
       "</div>"
      ],
      "text/plain": [
       "           BAMLH0A0HYM2\n",
       "DATE                   \n",
       "2010-01-04         6.34\n",
       "2010-01-05         6.30\n",
       "2010-01-06         6.17\n",
       "2010-01-07         6.03\n",
       "2010-01-08         6.02"
      ]
     },
     "execution_count": 3,
     "metadata": {},
     "output_type": "execute_result"
    }
   ],
   "source": [
    "# ICE BofA US High Yield Index Option-Adjusted Spread\n",
    "df_interest_rate = pd.read_csv(\"BAMLH0A0HYM2.csv\", index_col = 0)\n",
    "df_interest_rate.head()"
   ]
  },
  {
   "cell_type": "code",
   "execution_count": 4,
   "metadata": {},
   "outputs": [
    {
     "name": "stdout",
     "output_type": "stream",
     "text": [
      "<class 'pandas.core.frame.DataFrame'>\n",
      "Index: 2641 entries, 2010-01-04 to 2019-12-31\n",
      "Data columns (total 1 columns):\n",
      "BAMLH0A0HYM2    2641 non-null float64\n",
      "dtypes: float64(1)\n",
      "memory usage: 41.3+ KB\n"
     ]
    }
   ],
   "source": [
    "# Replace the bad value with value nearby\n",
    "df_interest_rate.loc[df_interest_rate.BAMLH0A0HYM2 == '.'] = np.nan\n",
    "df_interest_rate[['BAMLH0A0HYM2']] = df_interest_rate[['BAMLH0A0HYM2']].apply(pd.to_numeric)\n",
    "df_interest_rate['BAMLH0A0HYM2'].interpolate(method='linear', inplace=True)\n",
    "df_interest_rate.info()"
   ]
  },
  {
   "cell_type": "code",
   "execution_count": 5,
   "metadata": {},
   "outputs": [
    {
     "name": "stdout",
     "output_type": "stream",
     "text": [
      "set()\n"
     ]
    }
   ],
   "source": [
    "set_stock_dates = set(df_stock.index)\n",
    "set_rate_dates = set(df_interest_rate.index)\n",
    "\n",
    "# Take the difference between the sets and print\n",
    "print(set_stock_dates - set_rate_dates)"
   ]
  },
  {
   "cell_type": "code",
   "execution_count": 6,
   "metadata": {},
   "outputs": [
    {
     "data": {
      "text/html": [
       "<div>\n",
       "<style scoped>\n",
       "    .dataframe tbody tr th:only-of-type {\n",
       "        vertical-align: middle;\n",
       "    }\n",
       "\n",
       "    .dataframe tbody tr th {\n",
       "        vertical-align: top;\n",
       "    }\n",
       "\n",
       "    .dataframe thead th {\n",
       "        text-align: right;\n",
       "    }\n",
       "</style>\n",
       "<table border=\"1\" class=\"dataframe\">\n",
       "  <thead>\n",
       "    <tr style=\"text-align: right;\">\n",
       "      <th></th>\n",
       "      <th>IXIC.Open</th>\n",
       "      <th>IXIC.High</th>\n",
       "      <th>IXIC.Low</th>\n",
       "      <th>IXIC.Close</th>\n",
       "      <th>IXIC.Volume</th>\n",
       "      <th>IXIC.Adjusted</th>\n",
       "      <th>BAMLH0A0HYM2</th>\n",
       "    </tr>\n",
       "    <tr>\n",
       "      <th>TIMESTAMP</th>\n",
       "      <th></th>\n",
       "      <th></th>\n",
       "      <th></th>\n",
       "      <th></th>\n",
       "      <th></th>\n",
       "      <th></th>\n",
       "      <th></th>\n",
       "    </tr>\n",
       "  </thead>\n",
       "  <tbody>\n",
       "    <tr>\n",
       "      <td>2010-01-04</td>\n",
       "      <td>2294.409912</td>\n",
       "      <td>2311.149902</td>\n",
       "      <td>2294.409912</td>\n",
       "      <td>2308.419922</td>\n",
       "      <td>1.931380e+09</td>\n",
       "      <td>2308.419922</td>\n",
       "      <td>6.34</td>\n",
       "    </tr>\n",
       "    <tr>\n",
       "      <td>2010-01-05</td>\n",
       "      <td>2307.270020</td>\n",
       "      <td>2313.729980</td>\n",
       "      <td>2295.620117</td>\n",
       "      <td>2308.709961</td>\n",
       "      <td>2.367860e+09</td>\n",
       "      <td>2308.709961</td>\n",
       "      <td>6.30</td>\n",
       "    </tr>\n",
       "    <tr>\n",
       "      <td>2010-01-06</td>\n",
       "      <td>2307.709961</td>\n",
       "      <td>2314.070068</td>\n",
       "      <td>2295.679932</td>\n",
       "      <td>2301.090088</td>\n",
       "      <td>2.253340e+09</td>\n",
       "      <td>2301.090088</td>\n",
       "      <td>6.17</td>\n",
       "    </tr>\n",
       "    <tr>\n",
       "      <td>2010-01-07</td>\n",
       "      <td>2298.090088</td>\n",
       "      <td>2301.300049</td>\n",
       "      <td>2285.219971</td>\n",
       "      <td>2300.050049</td>\n",
       "      <td>2.270050e+09</td>\n",
       "      <td>2300.050049</td>\n",
       "      <td>6.03</td>\n",
       "    </tr>\n",
       "    <tr>\n",
       "      <td>2010-01-08</td>\n",
       "      <td>2292.239990</td>\n",
       "      <td>2317.600098</td>\n",
       "      <td>2290.610107</td>\n",
       "      <td>2317.169922</td>\n",
       "      <td>2.145390e+09</td>\n",
       "      <td>2317.169922</td>\n",
       "      <td>6.02</td>\n",
       "    </tr>\n",
       "    <tr>\n",
       "      <td>2010-01-11</td>\n",
       "      <td>2324.780029</td>\n",
       "      <td>2326.280029</td>\n",
       "      <td>2302.209961</td>\n",
       "      <td>2312.409912</td>\n",
       "      <td>2.077890e+09</td>\n",
       "      <td>2312.409912</td>\n",
       "      <td>5.99</td>\n",
       "    </tr>\n",
       "    <tr>\n",
       "      <td>2010-01-12</td>\n",
       "      <td>2297.280029</td>\n",
       "      <td>2298.850098</td>\n",
       "      <td>2272.699951</td>\n",
       "      <td>2282.310059</td>\n",
       "      <td>2.368320e+09</td>\n",
       "      <td>2282.310059</td>\n",
       "      <td>6.07</td>\n",
       "    </tr>\n",
       "    <tr>\n",
       "      <td>2010-01-13</td>\n",
       "      <td>2289.459961</td>\n",
       "      <td>2313.030029</td>\n",
       "      <td>2274.120117</td>\n",
       "      <td>2307.899902</td>\n",
       "      <td>2.318350e+09</td>\n",
       "      <td>2307.899902</td>\n",
       "      <td>6.03</td>\n",
       "    </tr>\n",
       "    <tr>\n",
       "      <td>2010-01-14</td>\n",
       "      <td>2303.310059</td>\n",
       "      <td>2322.560059</td>\n",
       "      <td>2303.290039</td>\n",
       "      <td>2316.739990</td>\n",
       "      <td>2.254170e+09</td>\n",
       "      <td>2316.739990</td>\n",
       "      <td>6.04</td>\n",
       "    </tr>\n",
       "    <tr>\n",
       "      <td>2010-01-15</td>\n",
       "      <td>2316.979980</td>\n",
       "      <td>2322.540039</td>\n",
       "      <td>2279.199951</td>\n",
       "      <td>2287.989990</td>\n",
       "      <td>2.637770e+09</td>\n",
       "      <td>2287.989990</td>\n",
       "      <td>6.10</td>\n",
       "    </tr>\n",
       "  </tbody>\n",
       "</table>\n",
       "</div>"
      ],
      "text/plain": [
       "              IXIC.Open    IXIC.High     IXIC.Low   IXIC.Close   IXIC.Volume  \\\n",
       "TIMESTAMP                                                                      \n",
       "2010-01-04  2294.409912  2311.149902  2294.409912  2308.419922  1.931380e+09   \n",
       "2010-01-05  2307.270020  2313.729980  2295.620117  2308.709961  2.367860e+09   \n",
       "2010-01-06  2307.709961  2314.070068  2295.679932  2301.090088  2.253340e+09   \n",
       "2010-01-07  2298.090088  2301.300049  2285.219971  2300.050049  2.270050e+09   \n",
       "2010-01-08  2292.239990  2317.600098  2290.610107  2317.169922  2.145390e+09   \n",
       "2010-01-11  2324.780029  2326.280029  2302.209961  2312.409912  2.077890e+09   \n",
       "2010-01-12  2297.280029  2298.850098  2272.699951  2282.310059  2.368320e+09   \n",
       "2010-01-13  2289.459961  2313.030029  2274.120117  2307.899902  2.318350e+09   \n",
       "2010-01-14  2303.310059  2322.560059  2303.290039  2316.739990  2.254170e+09   \n",
       "2010-01-15  2316.979980  2322.540039  2279.199951  2287.989990  2.637770e+09   \n",
       "\n",
       "            IXIC.Adjusted  BAMLH0A0HYM2  \n",
       "TIMESTAMP                                \n",
       "2010-01-04    2308.419922          6.34  \n",
       "2010-01-05    2308.709961          6.30  \n",
       "2010-01-06    2301.090088          6.17  \n",
       "2010-01-07    2300.050049          6.03  \n",
       "2010-01-08    2317.169922          6.02  \n",
       "2010-01-11    2312.409912          5.99  \n",
       "2010-01-12    2282.310059          6.07  \n",
       "2010-01-13    2307.899902          6.03  \n",
       "2010-01-14    2316.739990          6.04  \n",
       "2010-01-15    2287.989990          6.10  "
      ]
     },
     "execution_count": 6,
     "metadata": {},
     "output_type": "execute_result"
    }
   ],
   "source": [
    "# Merge stocks and bonds DataFrames using join()\n",
    "df = df_stock.join(df_interest_rate, how='left')\n",
    "df.head(10)"
   ]
  },
  {
   "cell_type": "code",
   "execution_count": 7,
   "metadata": {},
   "outputs": [
    {
     "data": {
      "text/plain": [
       "<matplotlib.legend.Legend at 0x143956490>"
      ]
     },
     "execution_count": 7,
     "metadata": {},
     "output_type": "execute_result"
    },
    {
     "data": {
      "image/png": "[encoded data removed]",
      "text/plain": [
       "<Figure size 1080x360 with 2 Axes>"
      ]
     },
     "metadata": {
      "needs_background": "light"
     },
     "output_type": "display_data"
    }
   ],
   "source": [
    "plt.figure(figsize=(15, 5))\n",
    "plt.subplot(1,2,1)\n",
    "plt.plot(df['IXIC.Low'].values, color='red', label='low')\n",
    "plt.plot(df['IXIC.High'].values, color='green', label='high')\n",
    "plt.plot(df['IXIC.Open'].values, color='blue', label='open')\n",
    "plt.plot(df['IXIC.Close'].values, color='black', label='close')\n",
    "plt.title('NASDAQ Composite stock price from Jan 2010 to Dec 2019')\n",
    "plt.xlabel('time [days]')\n",
    "plt.ylabel('price')\n",
    "plt.legend(loc='best')\n",
    "\n",
    "\n",
    "plt.subplot(1,2,2)\n",
    "plt.plot(df['IXIC.Volume'].values, color='black', label='volume')\n",
    "plt.title('NASDAQ Composite stock volume from Jan 2010 to Dec 2019')\n",
    "plt.xlabel('time [days]')\n",
    "plt.ylabel('volume')\n",
    "plt.legend(loc='best')"
   ]
  },
  {
   "cell_type": "markdown",
   "metadata": {},
   "source": [
    "# Data Preparation\n",
    "\n",
    "Before we can fit an LSTM model to the dataset, we must transform the data.\n",
    "\n",
    "The following three data transforms are performed on the dataset prior to fitting a model and making a forecast.\n",
    "\n",
    "- Transform the time series data so that it is stationary. Specifically, a lag=1 differencing to remove the increasing trend in the data.\n",
    "- Transform the time series into a supervised learning problem. Specifically, the organization of data into input and output patterns where the observation at the previous time step is used as an input to forecast the observation at the current time step\n",
    "- Transform the observations to have a specific scale. Specifically, to rescale the data to values between -1 and 1 to meet the default hyperbolic tangent activation function of the LSTM model.\n",
    "\n",
    "These transforms are inverted on forecasts to return them into their original scale before calculating and error score."
   ]
  },
  {
   "cell_type": "code",
   "execution_count": 8,
   "metadata": {},
   "outputs": [
    {
     "data": {
      "image/png": "[encoded data removed]",
      "text/plain": [
       "<Figure size 720x504 with 1 Axes>"
      ]
     },
     "metadata": {
      "needs_background": "light"
     },
     "output_type": "display_data"
    }
   ],
   "source": [
    "# create a differenced series\n",
    "def difference(dataset, interval=1):\n",
    "    diff = list()\n",
    "    for i in range(interval, len(dataset)):\n",
    "        value = dataset[i] - dataset[i - interval]\n",
    "        diff.append(value)\n",
    "    return pd.Series(diff)\n",
    "\n",
    "raw_values = df['IXIC.Close'].values\n",
    "diff_values = difference(raw_values, 1)\n",
    "plt.figure(figsize=(10, 7))\n",
    "plt.plot(diff_values)\n",
    "plt.title('Differenced Series of Stock Close Price')\n",
    "plt.show()"
   ]
  },
  {
   "cell_type": "code",
   "execution_count": 9,
   "metadata": {},
   "outputs": [
    {
     "name": "stdout",
     "output_type": "stream",
     "text": [
      "(2513, 2)\n"
     ]
    }
   ],
   "source": [
    "# frame a sequence as a supervised learning problem\n",
    "def timeseries_to_supervised(data, lag=1):\n",
    "    df = pd.DataFrame(data)\n",
    "    columns = [df.shift(i) for i in range(1, lag+1)]\n",
    "    columns.append(df)\n",
    "    df = pd.concat(columns, axis=1)\n",
    "    return df\n",
    "\n",
    "# transform data to be supervised learning\n",
    "features = 1\n",
    "supervised = timeseries_to_supervised(diff_values, features)\n",
    "supervised_values = supervised.values[features:,:]\n",
    "print(supervised_values.shape)"
   ]
  },
  {
   "cell_type": "code",
   "execution_count": 10,
   "metadata": {},
   "outputs": [
    {
     "name": "stdout",
     "output_type": "stream",
     "text": [
      "df_train.shape =  (2264, 6)\n",
      "df_test.shape =  (251, 6)\n"
     ]
    }
   ],
   "source": [
    "# split the dataset into two parts: a training set (2010-2018) and a test set (2019).\n",
    "df_train = df_stock['2010-01-01':'2018-12-31']\n",
    "df_test = df_stock['2019-01-01':'2019-12-31']\n",
    "print('df_train.shape = ',df_train.shape)\n",
    "print('df_test.shape = ',df_test.shape)"
   ]
  },
  {
   "cell_type": "code",
   "execution_count": 11,
   "metadata": {},
   "outputs": [],
   "source": [
    "# scale train and test data to [-1, 1]\n",
    "def scale(train, test):\n",
    "    # fit scaler\n",
    "    scaler = MinMaxScaler(feature_range=(-1, 1))\n",
    "    scaler = scaler.fit(train)\n",
    "    # transform train\n",
    "    train = train.reshape(train.shape[0], train.shape[1])\n",
    "    train_scaled = scaler.transform(train)\n",
    "    # transform test\n",
    "    test = test.reshape(test.shape[0], test.shape[1])\n",
    "    test_scaled = scaler.transform(test)\n",
    "    return scaler, train_scaled, test_scaled"
   ]
  },
  {
   "cell_type": "code",
   "execution_count": 12,
   "metadata": {},
   "outputs": [],
   "source": [
    "# split data into train and test-sets\n",
    "train, test = supervised_values[0:-251, :], supervised_values[-251:, :]\n",
    "# transform the scale of the data using MinMaxScaler\n",
    "scaler, train_scaled, test_scaled = scale(train, test)"
   ]
  },
  {
   "cell_type": "markdown",
   "metadata": {},
   "source": [
    "# LSTM Model\n",
    "\n",
    "We will use a base stateful LSTM model with 1 neuron fit for 50 epochs.\n",
    "\n",
    "A batch size of 1 is required as we will be using walk-forward validation and making one-step forecasts for each of the final 251 days of test data.\n",
    "\n",
    "A batch size of 1 means that the model will be fit using online training (as opposed to batch training or mini-batch training). As a result, it is expected that the model fit will have some variance.\n",
    "\n",
    "Ideally, more training epochs would be used (such as 1000 or 1500), but this was truncated to 50 to keep run times reasonable.\n",
    "\n",
    "The model will be fit using the efficient ADAM optimization algorithm and the mean squared error loss function."
   ]
  },
  {
   "cell_type": "code",
   "execution_count": 13,
   "metadata": {},
   "outputs": [],
   "source": [
    "# fit an LSTM network to training data\n",
    "def fit_lstm(train, batch_size, nb_epoch, neurons):\n",
    "    X, y = train[:, 0:-1], train[:, -1]\n",
    "    X = X.reshape(X.shape[0], 1, X.shape[1])\n",
    "    model = Sequential()\n",
    "    model.add(LSTM(neurons, batch_input_shape=(batch_size, X.shape[1], X.shape[2]), stateful=True))\n",
    "    model.add(Dense(1))\n",
    "    model.compile(loss='mean_squared_error', optimizer='adam')\n",
    "    for i in range(nb_epoch):\n",
    "        model.fit(X, y, epochs=1, batch_size=batch_size, verbose=0, shuffle=False)\n",
    "        model.reset_states()\n",
    "    return model\n",
    "\n",
    "# make a one-step forecast\n",
    "def forecast_lstm(model, batch_size, X):\n",
    "    X = X.reshape(1, 1, len(X))\n",
    "    yhat = model.predict(X, batch_size=batch_size)\n",
    "    return yhat[0,0]\n",
    "\n",
    "# invert differenced value\n",
    "def inverse_difference(history, yhat, interval=1):\n",
    "    return yhat + history[-interval]\n",
    "\n",
    "# inverse scaling for a forecasted value\n",
    "def invert_scale(scaler, X, yhat):\n",
    "    new_row = [x for x in X] + [yhat]\n",
    "    array = np.array(new_row)\n",
    "    array = array.reshape(1, len(array))\n",
    "    inverted = scaler.inverse_transform(array)\n",
    "    return inverted[0, -1]"
   ]
  },
  {
   "cell_type": "markdown",
   "metadata": {},
   "source": [
    "# Experimental Runs\n",
    "\n",
    "Each experimental scenario will be run 10 times.\n",
    "\n",
    "The reason for this is that the random initial conditions for an LSTM network can result in very different results each time a given configuration is trained.\n",
    "\n",
    "Let’s dive into the experiments."
   ]
  },
  {
   "cell_type": "code",
   "execution_count": 14,
   "metadata": {},
   "outputs": [
    {
     "name": "stderr",
     "output_type": "stream",
     "text": [
      " 10%|█         | 1/10 [01:39<14:56, 99.65s/it]"
     ]
    },
    {
     "name": "stdout",
     "output_type": "stream",
     "text": [
      "1) Test RMSE: 77.130\n"
     ]
    },
    {
     "name": "stderr",
     "output_type": "stream",
     "text": [
      "\r",
      " 20%|██        | 2/10 [03:18<13:14, 99.26s/it]"
     ]
    },
    {
     "name": "stdout",
     "output_type": "stream",
     "text": [
      "2) Test RMSE: 76.981\n"
     ]
    },
    {
     "name": "stderr",
     "output_type": "stream",
     "text": [
      "\r",
      " 30%|███       | 3/10 [04:57<11:34, 99.24s/it]"
     ]
    },
    {
     "name": "stdout",
     "output_type": "stream",
     "text": [
      "3) Test RMSE: 77.071\n"
     ]
    },
    {
     "name": "stderr",
     "output_type": "stream",
     "text": [
      "\r",
      " 40%|████      | 4/10 [06:43<10:08, 101.49s/it]"
     ]
    },
    {
     "name": "stdout",
     "output_type": "stream",
     "text": [
      "4) Test RMSE: 76.999\n"
     ]
    },
    {
     "name": "stderr",
     "output_type": "stream",
     "text": [
      "\r",
      " 50%|█████     | 5/10 [08:16<08:14, 98.87s/it] "
     ]
    },
    {
     "name": "stdout",
     "output_type": "stream",
     "text": [
      "5) Test RMSE: 77.055\n"
     ]
    },
    {
     "name": "stderr",
     "output_type": "stream",
     "text": [
      "\r",
      " 60%|██████    | 6/10 [09:50<06:29, 97.49s/it]"
     ]
    },
    {
     "name": "stdout",
     "output_type": "stream",
     "text": [
      "6) Test RMSE: 77.039\n"
     ]
    },
    {
     "name": "stderr",
     "output_type": "stream",
     "text": [
      "\r",
      " 70%|███████   | 7/10 [11:27<04:51, 97.28s/it]"
     ]
    },
    {
     "name": "stdout",
     "output_type": "stream",
     "text": [
      "7) Test RMSE: 76.873\n"
     ]
    },
    {
     "name": "stderr",
     "output_type": "stream",
     "text": [
      "\r",
      " 80%|████████  | 8/10 [13:04<03:14, 97.01s/it]"
     ]
    },
    {
     "name": "stdout",
     "output_type": "stream",
     "text": [
      "8) Test RMSE: 76.983\n"
     ]
    },
    {
     "name": "stderr",
     "output_type": "stream",
     "text": [
      "\r",
      " 90%|█████████ | 9/10 [14:39<01:36, 96.59s/it]"
     ]
    },
    {
     "name": "stdout",
     "output_type": "stream",
     "text": [
      "9) Test RMSE: 77.040\n"
     ]
    },
    {
     "name": "stderr",
     "output_type": "stream",
     "text": [
      "100%|██████████| 10/10 [16:13<00:00, 97.34s/it]"
     ]
    },
    {
     "name": "stdout",
     "output_type": "stream",
     "text": [
      "10) Test RMSE: 77.049\n"
     ]
    },
    {
     "name": "stderr",
     "output_type": "stream",
     "text": [
      "\n"
     ]
    }
   ],
   "source": [
    "# experiment\n",
    "repeats = 10\n",
    "error_scores = list()\n",
    "for r in tqdm(range(repeats)):\n",
    "    # fit the base model\n",
    "    lstm_model = fit_lstm(train_scaled, 1, 50, 1)\n",
    "    # forecast test dataset\n",
    "    predictions = list()\n",
    "    for i in range(len(test_scaled)):\n",
    "        # predict\n",
    "        X, y = test_scaled[i, 0:-1], test_scaled[i, -1]\n",
    "        yhat = forecast_lstm(lstm_model, 1, X)\n",
    "        # invert scaling\n",
    "        yhat = invert_scale(scaler, X, yhat)\n",
    "        # invert differencing\n",
    "        yhat = inverse_difference(raw_values, yhat, len(test_scaled)+1-i)\n",
    "        # store forecast\n",
    "        predictions.append(yhat)\n",
    "    # report performance\n",
    "    rmse = sqrt(mean_squared_error(raw_values[-251:], predictions))\n",
    "    print('%d) Test RMSE: %.3f' % (r+1, rmse))\n",
    "    error_scores.append(rmse)"
   ]
  },
  {
   "cell_type": "code",
   "execution_count": 15,
   "metadata": {},
   "outputs": [
    {
     "data": {
      "text/plain": [
       "{'whiskers': [<matplotlib.lines.Line2D at 0x14403e850>,\n",
       "  <matplotlib.lines.Line2D at 0x144038c50>],\n",
       " 'caps': [<matplotlib.lines.Line2D at 0x14403e8d0>,\n",
       "  <matplotlib.lines.Line2D at 0x14402ebd0>],\n",
       " 'boxes': [<matplotlib.lines.Line2D at 0x144038990>],\n",
       " 'medians': [<matplotlib.lines.Line2D at 0x14431b190>],\n",
       " 'fliers': [<matplotlib.lines.Line2D at 0x14402ec50>],\n",
       " 'means': []}"
      ]
     },
     "execution_count": 15,
     "metadata": {},
     "output_type": "execute_result"
    },
    {
     "data": {
      "image/png": "[encoded data removed]",
      "text/plain": [
       "<Figure size 432x288 with 1 Axes>"
      ]
     },
     "metadata": {
      "needs_background": "light"
     },
     "output_type": "display_data"
    }
   ],
   "source": [
    "fig, ax = plt.subplots()\n",
    "ax.set_title('Basic Plot')\n",
    "ax.boxplot(error_scores)"
   ]
  },
  {
   "cell_type": "code",
   "execution_count": null,
   "metadata": {},
   "outputs": [],
   "source": []
  }
 ],
 "metadata": {
  "kernelspec": {
   "display_name": "Python 3",
   "language": "python",
   "name": "python3"
  },
  "language_info": {
   "codemirror_mode": {
    "name": "ipython",
    "version": 3
   },
   "file_extension": ".py",
   "mimetype": "text/x-python",
   "name": "python",
   "nbconvert_exporter": "python",
   "pygments_lexer": "ipython3",
   "version": "3.7.4"
  }
 },
 "nbformat": 4,
 "nbformat_minor": 2
}
